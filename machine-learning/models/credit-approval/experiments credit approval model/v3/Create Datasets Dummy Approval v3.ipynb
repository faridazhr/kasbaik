{
 "cells": [
  {
   "cell_type": "code",
   "execution_count": 1,
   "metadata": {},
   "outputs": [],
   "source": [
    "import pandas as pd\n",
    "import numpy as np"
   ]
  },
  {
   "cell_type": "code",
   "execution_count": 3,
   "metadata": {},
   "outputs": [
    {
     "name": "stdout",
     "output_type": "stream",
     "text": [
      "First line (header) looks like this:\n",
      "\n",
      "Gender;Usia;Pinjaman;Tenor;Pemasukan;Tanggungan;Pekerjaan;Donasi\n",
      "\n",
      "Each data point looks like this:\n",
      "\n",
      "M;53;1800000;6;1500000;1;Buruh;0\n",
      "\n"
     ]
    }
   ],
   "source": [
    "with open(\"./Dummy Datasets X Variable v3.csv\", 'r') as csvfile:\n",
    "    print(f\"First line (header) looks like this:\\n\\n{csvfile.readline()}\")\n",
    "    print(f\"Each data point looks like this:\\n\\n{csvfile.readline()}\")"
   ]
  },
  {
   "cell_type": "code",
   "execution_count": 5,
   "metadata": {},
   "outputs": [
    {
     "name": "stdout",
     "output_type": "stream",
     "text": [
      "  Gender  Usia  Pinjaman  Tenor  Pemasukan  Tanggungan      Pekerjaan  Donasi\n",
      "0      M    53   1800000      6    1500000           1          Buruh       0\n",
      "1      M    61    500000      4    3500000           0     Guru/Dosen       3\n",
      "2      M    33   1000000      6    1200000           0       Pedagang       6\n",
      "3      M    37   1200000     16    1800000           5  Pekerja Lepas       5\n",
      "4      F    36   1200000     10    4600000           1          Buruh       4\n"
     ]
    }
   ],
   "source": [
    "df  = pd.read_csv(r'./Dummy Datasets X Variable v3.csv', delimiter=';')\n",
    "print(df.head())"
   ]
  },
  {
   "cell_type": "code",
   "execution_count": 7,
   "metadata": {},
   "outputs": [],
   "source": [
    "# converting to list\n",
    "gender_list = df[\"Gender\"].tolist()\n",
    "usia_list = df[\"Usia\"].tolist()\n",
    "pinjaman_list = df[\"Pinjaman\"].tolist()\n",
    "tenor_list = df[\"Tenor\"].tolist()\n",
    "pemasukan_list = df[\"Pemasukan\"].tolist()\n",
    "tanggungan_list = df[\"Tanggungan\"].tolist()\n",
    "pekerjaan_list = df[\"Pekerjaan\"].tolist()\n",
    "donasi_list = df[\"Donasi\"].tolist()"
   ]
  },
  {
   "cell_type": "code",
   "execution_count": 8,
   "metadata": {},
   "outputs": [
    {
     "name": "stdout",
     "output_type": "stream",
     "text": [
      "10000\n"
     ]
    }
   ],
   "source": [
    "approval = []\n",
    "i = 0\n",
    "\n",
    "for i in range(0,10000):\n",
    "    if pemasukan_list[i] >= pinjaman_list[i]/(pinjaman_list[i]/4) + 2000000:\n",
    "        if usia_list[i] <= 63:\n",
    "            if pekerjaan_list[i] == 'Buruh' or pekerjaan_list[i] == 'Guru/Dosen':\n",
    "                if gender_list[i] == 'F':\n",
    "                    if pemasukan_list[i] >= pinjaman_list[i]/(pinjaman_list[i]/4) + 1500000*(tanggungan_list[i]+1):\n",
    "                        approval.append('Y')\n",
    "                    else:\n",
    "                        if donasi_list[i] > 5:\n",
    "                            approval.append('Y')\n",
    "                        else:\n",
    "                            approval.append('N')\n",
    "                else:\n",
    "                    if pemasukan_list[i] >= pinjaman_list[i]/(pinjaman_list[i]/4) + 1500000*(tanggungan_list[i]+2):\n",
    "                        approval.append('Y')\n",
    "                    else:\n",
    "                        if donasi_list[i] > 5:\n",
    "                            approval.append('Y')\n",
    "                        else:\n",
    "                            approval.append('N')\n",
    "            else:\n",
    "                if gender_list[i] == 'F':\n",
    "                    if pemasukan_list[i] >= pinjaman_list[i]/(pinjaman_list[i]/4) + 150000*(tanggungan_list[i]+1):\n",
    "                         approval.append('Y')\n",
    "                    else:\n",
    "                        if donasi_list[i] > 5:\n",
    "                            approval.append('Y')\n",
    "                        else:\n",
    "                            approval.append('N')\n",
    "                else:\n",
    "                    if pemasukan_list[i] >= pinjaman_list[i]/(pinjaman_list[i]/4) + 120000*(tanggungan_list[i]+2):\n",
    "                        approval.append('Y')\n",
    "                    else:\n",
    "                        if donasi_list[i] > 5:\n",
    "                            approval.append('Y')\n",
    "                        else:\n",
    "                            approval.append('N')\n",
    "        else:\n",
    "            if pekerjaan_list[i] == 'Pedagang' or pekerjaan_list[i] == 'Pekerja Lepas' or pekerjaan_list[i] == 'Wirausaha':\n",
    "                if pemasukan_list[i] >= pinjaman_list[i]/(pinjaman_list[i]/4) + 120000*(tanggungan_list[i]+2):\n",
    "                    approval.append('Y')\n",
    "                else:\n",
    "                    if donasi_list[i] > 5:\n",
    "                        approval.append('Y')\n",
    "                    else:\n",
    "                        approval.append('N')\n",
    "            else:\n",
    "                approval.append('N')\n",
    "    else:\n",
    "        approval.append('N')\n",
    "\n",
    "print(len(approval))   \n",
    "\n",
    "\n"
   ]
  },
  {
   "cell_type": "code",
   "execution_count": 9,
   "metadata": {},
   "outputs": [
    {
     "name": "stdout",
     "output_type": "stream",
     "text": [
      "The list after removing duplicates: ['N', 'Y']\n",
      "the number of each label in the data:\n",
      " {'N': 4733, 'Y': 5267}\n"
     ]
    }
   ],
   "source": [
    "# to remove duplicated from list labels\n",
    "result = [] \n",
    "[result.append(x) for x in approval if x not in result] \n",
    "\n",
    "# printing list labels after removal \n",
    "print (\"The list after removing duplicates: \" + str(result)) \n",
    "\n",
    "# count number of each label in the data\n",
    "res = {}\n",
    "\n",
    "for i in approval:\n",
    "    res[i] = approval.count(i)\n",
    "    \n",
    "print(f\"the number of each label in the data:\\n {res}\")"
   ]
  },
  {
   "cell_type": "code",
   "execution_count": 9,
   "metadata": {},
   "outputs": [
    {
     "data": {
      "text/html": [
       "<div>\n",
       "<style scoped>\n",
       "    .dataframe tbody tr th:only-of-type {\n",
       "        vertical-align: middle;\n",
       "    }\n",
       "\n",
       "    .dataframe tbody tr th {\n",
       "        vertical-align: top;\n",
       "    }\n",
       "\n",
       "    .dataframe thead th {\n",
       "        text-align: right;\n",
       "    }\n",
       "</style>\n",
       "<table border=\"1\" class=\"dataframe\">\n",
       "  <thead>\n",
       "    <tr style=\"text-align: right;\">\n",
       "      <th></th>\n",
       "      <th>approval</th>\n",
       "      <th>gender</th>\n",
       "      <th>usia</th>\n",
       "      <th>pinjaman</th>\n",
       "      <th>tenor</th>\n",
       "      <th>pemasukan</th>\n",
       "      <th>tanggungan</th>\n",
       "      <th>pekerjaan</th>\n",
       "    </tr>\n",
       "  </thead>\n",
       "  <tbody>\n",
       "    <tr>\n",
       "      <th>0</th>\n",
       "      <td>N</td>\n",
       "      <td>M</td>\n",
       "      <td>43</td>\n",
       "      <td>700000</td>\n",
       "      <td>8</td>\n",
       "      <td>1200000</td>\n",
       "      <td>3</td>\n",
       "      <td>Wirausaha</td>\n",
       "    </tr>\n",
       "    <tr>\n",
       "      <th>1</th>\n",
       "      <td>Y</td>\n",
       "      <td>M</td>\n",
       "      <td>31</td>\n",
       "      <td>500000</td>\n",
       "      <td>10</td>\n",
       "      <td>2300000</td>\n",
       "      <td>5</td>\n",
       "      <td>Pedagang</td>\n",
       "    </tr>\n",
       "    <tr>\n",
       "      <th>2</th>\n",
       "      <td>N</td>\n",
       "      <td>F</td>\n",
       "      <td>79</td>\n",
       "      <td>1600000</td>\n",
       "      <td>10</td>\n",
       "      <td>1800000</td>\n",
       "      <td>2</td>\n",
       "      <td>Pedagang</td>\n",
       "    </tr>\n",
       "    <tr>\n",
       "      <th>3</th>\n",
       "      <td>N</td>\n",
       "      <td>F</td>\n",
       "      <td>80</td>\n",
       "      <td>2500000</td>\n",
       "      <td>4</td>\n",
       "      <td>4000000</td>\n",
       "      <td>0</td>\n",
       "      <td>Guru/Dosen</td>\n",
       "    </tr>\n",
       "    <tr>\n",
       "      <th>4</th>\n",
       "      <td>Y</td>\n",
       "      <td>M</td>\n",
       "      <td>92</td>\n",
       "      <td>500000</td>\n",
       "      <td>4</td>\n",
       "      <td>3000000</td>\n",
       "      <td>3</td>\n",
       "      <td>Pedagang</td>\n",
       "    </tr>\n",
       "  </tbody>\n",
       "</table>\n",
       "</div>"
      ],
      "text/plain": [
       "  approval gender usia  pinjaman tenor pemasukan tanggungan   pekerjaan\n",
       "0        N      M   43    700000     8   1200000          3   Wirausaha\n",
       "1        Y      M   31    500000    10   2300000          5    Pedagang\n",
       "2        N      F   79   1600000    10   1800000          2    Pedagang\n",
       "3        N      F   80   2500000     4   4000000          0  Guru/Dosen\n",
       "4        Y      M   92    500000     4   3000000          3    Pedagang"
      ]
     },
     "execution_count": 9,
     "metadata": {},
     "output_type": "execute_result"
    }
   ],
   "source": [
    "data = pd.DataFrame(np.column_stack([approval, \n",
    "                                    gender_list,\n",
    "                                    usia_list,\n",
    "                                    pinjaman_list,\n",
    "                                    tenor_list,\n",
    "                                    pemasukan_list,\n",
    "                                    tanggungan_list,\n",
    "                                    pekerjaan_list\n",
    "                                    ]), \n",
    "                               columns=['approval', 'gender', 'usia', ' pinjaman', 'tenor', 'pemasukan', 'tanggungan', 'pekerjaan'])\n",
    "\n",
    "data.head()"
   ]
  },
  {
   "cell_type": "code",
   "execution_count": 10,
   "metadata": {},
   "outputs": [],
   "source": [
    "data.to_excel('./Datasets_Dummy_CreditApproval-v3.xlsx')"
   ]
  }
 ],
 "metadata": {
  "interpreter": {
   "hash": "52634da84371cba311ea128a5ea7cdc41ff074b781779e754b270ff9f8153cee"
  },
  "kernelspec": {
   "display_name": "Python 3.9.7 64-bit",
   "language": "python",
   "name": "python3"
  },
  "language_info": {
   "codemirror_mode": {
    "name": "ipython",
    "version": 3
   },
   "file_extension": ".py",
   "mimetype": "text/x-python",
   "name": "python",
   "nbconvert_exporter": "python",
   "pygments_lexer": "ipython3",
   "version": "3.9.7"
  },
  "orig_nbformat": 4
 },
 "nbformat": 4,
 "nbformat_minor": 2
}
