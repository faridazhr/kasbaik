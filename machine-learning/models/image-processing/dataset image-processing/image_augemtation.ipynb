{
 "cells": [
  {
   "cell_type": "markdown",
   "metadata": {},
   "source": [
    "## Import Library"
   ]
  },
  {
   "cell_type": "code",
   "execution_count": 4,
   "metadata": {},
   "outputs": [],
   "source": [
    "from tensorflow.keras.preprocessing.image import ImageDataGenerator"
   ]
  },
  {
   "cell_type": "markdown",
   "metadata": {},
   "source": [
    "### Create Function for Augmentation"
   ]
  },
  {
   "cell_type": "code",
   "execution_count": 7,
   "metadata": {},
   "outputs": [],
   "source": [
    "def duplicate_with_augmentation(kelas):\n",
    "    datagen = ImageDataGenerator(\n",
    "                        rotation_range =15, \n",
    "                         width_shift_range = 0.2, \n",
    "                         height_shift_range = 0.2,  \n",
    "                         rescale=1./255, \n",
    "                         shear_range=0.2, \n",
    "                         zoom_range=0.2, \n",
    "                         horizontal_flip = True, \n",
    "                         fill_mode = 'nearest', \n",
    "                         data_format='channels_last', \n",
    "                         brightness_range=[0.5, 1.5]\n",
    "                         )\n",
    "    generator = datagen.flow_from_directory(\n",
    "        f'./image_augmentation/{kelas}_real',\n",
    "        target_size=(720,720),\n",
    "        save_to_dir=f'./image_augmentation/{kelas}_augmented',\n",
    "        class_mode='binary',\n",
    "        save_prefix='N',\n",
    "        save_format='jpeg',\n",
    "        batch_size=1)\n",
    "\n",
    "    i = 0\n",
    "    for inputs,outputs in generator:\n",
    "        i+=1\n",
    "        if i>1000:\n",
    "            break"
   ]
  },
  {
   "cell_type": "markdown",
   "metadata": {},
   "source": [
    "### duplicate image with augmentation"
   ]
  },
  {
   "cell_type": "code",
   "execution_count": 8,
   "metadata": {},
   "outputs": [
    {
     "name": "stdout",
     "output_type": "stream",
     "text": [
      "Found 104 images belonging to 1 classes.\n",
      "Found 130 images belonging to 1 classes.\n"
     ]
    }
   ],
   "source": [
    "duplicate_with_augmentation('ktp')\n",
    "duplicate_with_augmentation('selfie')"
   ]
  },
  {
   "cell_type": "code",
   "execution_count": null,
   "metadata": {},
   "outputs": [],
   "source": []
  }
 ],
 "metadata": {
  "interpreter": {
   "hash": "52634da84371cba311ea128a5ea7cdc41ff074b781779e754b270ff9f8153cee"
  },
  "kernelspec": {
   "display_name": "Python 3.9.7 64-bit",
   "language": "python",
   "name": "python3"
  },
  "language_info": {
   "codemirror_mode": {
    "name": "ipython",
    "version": 3
   },
   "file_extension": ".py",
   "mimetype": "text/x-python",
   "name": "python",
   "nbconvert_exporter": "python",
   "pygments_lexer": "ipython3",
   "version": "3.9.7"
  },
  "orig_nbformat": 4
 },
 "nbformat": 4,
 "nbformat_minor": 2
}
