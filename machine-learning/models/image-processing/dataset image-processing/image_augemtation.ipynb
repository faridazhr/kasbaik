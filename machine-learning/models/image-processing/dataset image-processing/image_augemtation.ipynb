{
 "cells": [
  {
   "cell_type": "markdown",
   "metadata": {},
   "source": [
    "## Import Library"
   ]
  },
  {
   "cell_type": "code",
   "execution_count": 3,
   "metadata": {},
   "outputs": [],
   "source": [
    "from tensorflow.keras.preprocessing.image import ImageDataGenerator"
   ]
  },
  {
   "cell_type": "markdown",
   "metadata": {},
   "source": [
    "### Create Function for Augmentation"
   ]
  },
  {
   "cell_type": "code",
   "execution_count": 4,
   "metadata": {},
   "outputs": [],
   "source": [
    "def duplicate_with_augmentation(kelas):\n",
    "    datagen = ImageDataGenerator(\n",
    "                        rotation_range =15, \n",
    "                         width_shift_range = 0.2, \n",
    "                         height_shift_range = 0.2,  \n",
    "                         rescale=1./255, \n",
    "                         shear_range=0.2, \n",
    "                         zoom_range=0.2, \n",
    "                         horizontal_flip = True, \n",
    "                         fill_mode = 'nearest', \n",
    "                         data_format='channels_last', \n",
    "                         brightness_range=[0.5, 1.5]\n",
    "                         )\n",
    "    generator = datagen.flow_from_directory(\n",
    "        f'./image_augmentation/{kelas}_real',\n",
    "        target_size=(720,720),\n",
    "        save_to_dir=f'./image_augmentation/{kelas}_augmented',\n",
    "        class_mode='binary',\n",
    "        save_prefix='N',\n",
    "        save_format='jpeg',\n",
    "        batch_size=1)\n",
    "\n",
    "    i = 0\n",
    "    for inputs,outputs in generator:\n",
    "        i+=1\n",
    "        if i>1000:\n",
    "            break"
   ]
  },
  {
   "cell_type": "code",
   "execution_count": 5,
   "metadata": {},
   "outputs": [
    {
     "ename": "FileNotFoundError",
     "evalue": "[WinError 3] The system cannot find the path specified: './image_augmentation/ktp_real'",
     "output_type": "error",
     "traceback": [
      "\u001b[1;31m---------------------------------------------------------------------------\u001b[0m",
      "\u001b[1;31mFileNotFoundError\u001b[0m                         Traceback (most recent call last)",
      "\u001b[1;32md:\\BANGKIT\\Capstone Project\\for GitHub Repo\\kasbaik\\machine-learning\\models\\image-processing\\image_augemtation.ipynb Cell 5'\u001b[0m in \u001b[0;36m<cell line: 1>\u001b[1;34m()\u001b[0m\n\u001b[1;32m----> <a href='vscode-notebook-cell:/d%3A/BANGKIT/Capstone%20Project/for%20GitHub%20Repo/kasbaik/machine-learning/models/image-processing/image_augemtation.ipynb#ch0000004?line=0'>1</a>\u001b[0m duplicate_with_augmentation(\u001b[39m'\u001b[39;49m\u001b[39mktp\u001b[39;49m\u001b[39m'\u001b[39;49m)\n\u001b[0;32m      <a href='vscode-notebook-cell:/d%3A/BANGKIT/Capstone%20Project/for%20GitHub%20Repo/kasbaik/machine-learning/models/image-processing/image_augemtation.ipynb#ch0000004?line=1'>2</a>\u001b[0m duplicate_with_augmentation(\u001b[39m'\u001b[39m\u001b[39mselfie\u001b[39m\u001b[39m'\u001b[39m)\n",
      "\u001b[1;32md:\\BANGKIT\\Capstone Project\\for GitHub Repo\\kasbaik\\machine-learning\\models\\image-processing\\image_augemtation.ipynb Cell 4'\u001b[0m in \u001b[0;36mduplicate_with_augmentation\u001b[1;34m(kelas)\u001b[0m\n\u001b[0;32m      <a href='vscode-notebook-cell:/d%3A/BANGKIT/Capstone%20Project/for%20GitHub%20Repo/kasbaik/machine-learning/models/image-processing/image_augemtation.ipynb#ch0000002?line=0'>1</a>\u001b[0m \u001b[39mdef\u001b[39;00m \u001b[39mduplicate_with_augmentation\u001b[39m(kelas):\n\u001b[0;32m      <a href='vscode-notebook-cell:/d%3A/BANGKIT/Capstone%20Project/for%20GitHub%20Repo/kasbaik/machine-learning/models/image-processing/image_augemtation.ipynb#ch0000002?line=1'>2</a>\u001b[0m     datagen \u001b[39m=\u001b[39m ImageDataGenerator(\n\u001b[0;32m      <a href='vscode-notebook-cell:/d%3A/BANGKIT/Capstone%20Project/for%20GitHub%20Repo/kasbaik/machine-learning/models/image-processing/image_augemtation.ipynb#ch0000002?line=2'>3</a>\u001b[0m                         rotation_range \u001b[39m=\u001b[39m\u001b[39m15\u001b[39m, \n\u001b[0;32m      <a href='vscode-notebook-cell:/d%3A/BANGKIT/Capstone%20Project/for%20GitHub%20Repo/kasbaik/machine-learning/models/image-processing/image_augemtation.ipynb#ch0000002?line=3'>4</a>\u001b[0m                          width_shift_range \u001b[39m=\u001b[39m \u001b[39m0.2\u001b[39m, \n\u001b[1;32m   (...)\u001b[0m\n\u001b[0;32m     <a href='vscode-notebook-cell:/d%3A/BANGKIT/Capstone%20Project/for%20GitHub%20Repo/kasbaik/machine-learning/models/image-processing/image_augemtation.ipynb#ch0000002?line=11'>12</a>\u001b[0m                          brightness_range\u001b[39m=\u001b[39m[\u001b[39m0.5\u001b[39m, \u001b[39m1.5\u001b[39m]\n\u001b[0;32m     <a href='vscode-notebook-cell:/d%3A/BANGKIT/Capstone%20Project/for%20GitHub%20Repo/kasbaik/machine-learning/models/image-processing/image_augemtation.ipynb#ch0000002?line=12'>13</a>\u001b[0m                          )\n\u001b[1;32m---> <a href='vscode-notebook-cell:/d%3A/BANGKIT/Capstone%20Project/for%20GitHub%20Repo/kasbaik/machine-learning/models/image-processing/image_augemtation.ipynb#ch0000002?line=13'>14</a>\u001b[0m     generator \u001b[39m=\u001b[39m datagen\u001b[39m.\u001b[39;49mflow_from_directory(\n\u001b[0;32m     <a href='vscode-notebook-cell:/d%3A/BANGKIT/Capstone%20Project/for%20GitHub%20Repo/kasbaik/machine-learning/models/image-processing/image_augemtation.ipynb#ch0000002?line=14'>15</a>\u001b[0m         \u001b[39mf\u001b[39;49m\u001b[39m'\u001b[39;49m\u001b[39m./image_augmentation/\u001b[39;49m\u001b[39m{\u001b[39;49;00mkelas\u001b[39m}\u001b[39;49;00m\u001b[39m_real\u001b[39;49m\u001b[39m'\u001b[39;49m,\n\u001b[0;32m     <a href='vscode-notebook-cell:/d%3A/BANGKIT/Capstone%20Project/for%20GitHub%20Repo/kasbaik/machine-learning/models/image-processing/image_augemtation.ipynb#ch0000002?line=15'>16</a>\u001b[0m         target_size\u001b[39m=\u001b[39;49m(\u001b[39m720\u001b[39;49m,\u001b[39m720\u001b[39;49m),\n\u001b[0;32m     <a href='vscode-notebook-cell:/d%3A/BANGKIT/Capstone%20Project/for%20GitHub%20Repo/kasbaik/machine-learning/models/image-processing/image_augemtation.ipynb#ch0000002?line=16'>17</a>\u001b[0m         save_to_dir\u001b[39m=\u001b[39;49m\u001b[39mf\u001b[39;49m\u001b[39m'\u001b[39;49m\u001b[39m./image_augmentation/\u001b[39;49m\u001b[39m{\u001b[39;49;00mkelas\u001b[39m}\u001b[39;49;00m\u001b[39m_augmented\u001b[39;49m\u001b[39m'\u001b[39;49m,\n\u001b[0;32m     <a href='vscode-notebook-cell:/d%3A/BANGKIT/Capstone%20Project/for%20GitHub%20Repo/kasbaik/machine-learning/models/image-processing/image_augemtation.ipynb#ch0000002?line=17'>18</a>\u001b[0m         class_mode\u001b[39m=\u001b[39;49m\u001b[39m'\u001b[39;49m\u001b[39mbinary\u001b[39;49m\u001b[39m'\u001b[39;49m,\n\u001b[0;32m     <a href='vscode-notebook-cell:/d%3A/BANGKIT/Capstone%20Project/for%20GitHub%20Repo/kasbaik/machine-learning/models/image-processing/image_augemtation.ipynb#ch0000002?line=18'>19</a>\u001b[0m         save_prefix\u001b[39m=\u001b[39;49m\u001b[39m'\u001b[39;49m\u001b[39mN\u001b[39;49m\u001b[39m'\u001b[39;49m,\n\u001b[0;32m     <a href='vscode-notebook-cell:/d%3A/BANGKIT/Capstone%20Project/for%20GitHub%20Repo/kasbaik/machine-learning/models/image-processing/image_augemtation.ipynb#ch0000002?line=19'>20</a>\u001b[0m         save_format\u001b[39m=\u001b[39;49m\u001b[39m'\u001b[39;49m\u001b[39mjpeg\u001b[39;49m\u001b[39m'\u001b[39;49m,\n\u001b[0;32m     <a href='vscode-notebook-cell:/d%3A/BANGKIT/Capstone%20Project/for%20GitHub%20Repo/kasbaik/machine-learning/models/image-processing/image_augemtation.ipynb#ch0000002?line=20'>21</a>\u001b[0m         batch_size\u001b[39m=\u001b[39;49m\u001b[39m1\u001b[39;49m)\n\u001b[0;32m     <a href='vscode-notebook-cell:/d%3A/BANGKIT/Capstone%20Project/for%20GitHub%20Repo/kasbaik/machine-learning/models/image-processing/image_augemtation.ipynb#ch0000002?line=22'>23</a>\u001b[0m     i \u001b[39m=\u001b[39m \u001b[39m0\u001b[39m\n\u001b[0;32m     <a href='vscode-notebook-cell:/d%3A/BANGKIT/Capstone%20Project/for%20GitHub%20Repo/kasbaik/machine-learning/models/image-processing/image_augemtation.ipynb#ch0000002?line=23'>24</a>\u001b[0m     \u001b[39mfor\u001b[39;00m inputs,outputs \u001b[39min\u001b[39;00m generator:\n",
      "File \u001b[1;32mc:\\Python\\lib\\site-packages\\keras\\preprocessing\\image.py:1469\u001b[0m, in \u001b[0;36mImageDataGenerator.flow_from_directory\u001b[1;34m(self, directory, target_size, color_mode, classes, class_mode, batch_size, shuffle, seed, save_to_dir, save_prefix, save_format, follow_links, subset, interpolation, keep_aspect_ratio)\u001b[0m\n\u001b[0;32m   <a href='file:///c%3A/Python/lib/site-packages/keras/preprocessing/image.py?line=1385'>1386</a>\u001b[0m \u001b[39mdef\u001b[39;00m \u001b[39mflow_from_directory\u001b[39m(\u001b[39mself\u001b[39m,\n\u001b[0;32m   <a href='file:///c%3A/Python/lib/site-packages/keras/preprocessing/image.py?line=1386'>1387</a>\u001b[0m                         directory,\n\u001b[0;32m   <a href='file:///c%3A/Python/lib/site-packages/keras/preprocessing/image.py?line=1387'>1388</a>\u001b[0m                         target_size\u001b[39m=\u001b[39m(\u001b[39m256\u001b[39m, \u001b[39m256\u001b[39m),\n\u001b[1;32m   (...)\u001b[0m\n\u001b[0;32m   <a href='file:///c%3A/Python/lib/site-packages/keras/preprocessing/image.py?line=1399'>1400</a>\u001b[0m                         interpolation\u001b[39m=\u001b[39m\u001b[39m'\u001b[39m\u001b[39mnearest\u001b[39m\u001b[39m'\u001b[39m,\n\u001b[0;32m   <a href='file:///c%3A/Python/lib/site-packages/keras/preprocessing/image.py?line=1400'>1401</a>\u001b[0m                         keep_aspect_ratio\u001b[39m=\u001b[39m\u001b[39mFalse\u001b[39;00m):\n\u001b[0;32m   <a href='file:///c%3A/Python/lib/site-packages/keras/preprocessing/image.py?line=1401'>1402</a>\u001b[0m   \u001b[39m\"\"\"Takes the path to a directory & generates batches of augmented data.\u001b[39;00m\n\u001b[0;32m   <a href='file:///c%3A/Python/lib/site-packages/keras/preprocessing/image.py?line=1402'>1403</a>\u001b[0m \n\u001b[0;32m   <a href='file:///c%3A/Python/lib/site-packages/keras/preprocessing/image.py?line=1403'>1404</a>\u001b[0m \u001b[39m  Args:\u001b[39;00m\n\u001b[1;32m   (...)\u001b[0m\n\u001b[0;32m   <a href='file:///c%3A/Python/lib/site-packages/keras/preprocessing/image.py?line=1466'>1467</a>\u001b[0m \u001b[39m          and `y` is a numpy array of corresponding labels.\u001b[39;00m\n\u001b[0;32m   <a href='file:///c%3A/Python/lib/site-packages/keras/preprocessing/image.py?line=1467'>1468</a>\u001b[0m \u001b[39m  \"\"\"\u001b[39;00m\n\u001b[1;32m-> <a href='file:///c%3A/Python/lib/site-packages/keras/preprocessing/image.py?line=1468'>1469</a>\u001b[0m   \u001b[39mreturn\u001b[39;00m DirectoryIterator(\n\u001b[0;32m   <a href='file:///c%3A/Python/lib/site-packages/keras/preprocessing/image.py?line=1469'>1470</a>\u001b[0m       directory,\n\u001b[0;32m   <a href='file:///c%3A/Python/lib/site-packages/keras/preprocessing/image.py?line=1470'>1471</a>\u001b[0m       \u001b[39mself\u001b[39;49m,\n\u001b[0;32m   <a href='file:///c%3A/Python/lib/site-packages/keras/preprocessing/image.py?line=1471'>1472</a>\u001b[0m       target_size\u001b[39m=\u001b[39;49mtarget_size,\n\u001b[0;32m   <a href='file:///c%3A/Python/lib/site-packages/keras/preprocessing/image.py?line=1472'>1473</a>\u001b[0m       color_mode\u001b[39m=\u001b[39;49mcolor_mode,\n\u001b[0;32m   <a href='file:///c%3A/Python/lib/site-packages/keras/preprocessing/image.py?line=1473'>1474</a>\u001b[0m       keep_aspect_ratio\u001b[39m=\u001b[39;49mkeep_aspect_ratio,\n\u001b[0;32m   <a href='file:///c%3A/Python/lib/site-packages/keras/preprocessing/image.py?line=1474'>1475</a>\u001b[0m       classes\u001b[39m=\u001b[39;49mclasses,\n\u001b[0;32m   <a href='file:///c%3A/Python/lib/site-packages/keras/preprocessing/image.py?line=1475'>1476</a>\u001b[0m       class_mode\u001b[39m=\u001b[39;49mclass_mode,\n\u001b[0;32m   <a href='file:///c%3A/Python/lib/site-packages/keras/preprocessing/image.py?line=1476'>1477</a>\u001b[0m       data_format\u001b[39m=\u001b[39;49m\u001b[39mself\u001b[39;49m\u001b[39m.\u001b[39;49mdata_format,\n\u001b[0;32m   <a href='file:///c%3A/Python/lib/site-packages/keras/preprocessing/image.py?line=1477'>1478</a>\u001b[0m       batch_size\u001b[39m=\u001b[39;49mbatch_size,\n\u001b[0;32m   <a href='file:///c%3A/Python/lib/site-packages/keras/preprocessing/image.py?line=1478'>1479</a>\u001b[0m       shuffle\u001b[39m=\u001b[39;49mshuffle,\n\u001b[0;32m   <a href='file:///c%3A/Python/lib/site-packages/keras/preprocessing/image.py?line=1479'>1480</a>\u001b[0m       seed\u001b[39m=\u001b[39;49mseed,\n\u001b[0;32m   <a href='file:///c%3A/Python/lib/site-packages/keras/preprocessing/image.py?line=1480'>1481</a>\u001b[0m       save_to_dir\u001b[39m=\u001b[39;49msave_to_dir,\n\u001b[0;32m   <a href='file:///c%3A/Python/lib/site-packages/keras/preprocessing/image.py?line=1481'>1482</a>\u001b[0m       save_prefix\u001b[39m=\u001b[39;49msave_prefix,\n\u001b[0;32m   <a href='file:///c%3A/Python/lib/site-packages/keras/preprocessing/image.py?line=1482'>1483</a>\u001b[0m       save_format\u001b[39m=\u001b[39;49msave_format,\n\u001b[0;32m   <a href='file:///c%3A/Python/lib/site-packages/keras/preprocessing/image.py?line=1483'>1484</a>\u001b[0m       follow_links\u001b[39m=\u001b[39;49mfollow_links,\n\u001b[0;32m   <a href='file:///c%3A/Python/lib/site-packages/keras/preprocessing/image.py?line=1484'>1485</a>\u001b[0m       subset\u001b[39m=\u001b[39;49msubset,\n\u001b[0;32m   <a href='file:///c%3A/Python/lib/site-packages/keras/preprocessing/image.py?line=1485'>1486</a>\u001b[0m       interpolation\u001b[39m=\u001b[39;49minterpolation,\n\u001b[0;32m   <a href='file:///c%3A/Python/lib/site-packages/keras/preprocessing/image.py?line=1486'>1487</a>\u001b[0m       dtype\u001b[39m=\u001b[39;49m\u001b[39mself\u001b[39;49m\u001b[39m.\u001b[39;49mdtype)\n",
      "File \u001b[1;32mc:\\Python\\lib\\site-packages\\keras\\preprocessing\\image.py:507\u001b[0m, in \u001b[0;36mDirectoryIterator.__init__\u001b[1;34m(self, directory, image_data_generator, target_size, color_mode, classes, class_mode, batch_size, shuffle, seed, data_format, save_to_dir, save_prefix, save_format, follow_links, subset, interpolation, keep_aspect_ratio, dtype)\u001b[0m\n\u001b[0;32m    <a href='file:///c%3A/Python/lib/site-packages/keras/preprocessing/image.py?line=504'>505</a>\u001b[0m \u001b[39mif\u001b[39;00m \u001b[39mnot\u001b[39;00m classes:\n\u001b[0;32m    <a href='file:///c%3A/Python/lib/site-packages/keras/preprocessing/image.py?line=505'>506</a>\u001b[0m   classes \u001b[39m=\u001b[39m []\n\u001b[1;32m--> <a href='file:///c%3A/Python/lib/site-packages/keras/preprocessing/image.py?line=506'>507</a>\u001b[0m   \u001b[39mfor\u001b[39;00m subdir \u001b[39min\u001b[39;00m \u001b[39msorted\u001b[39m(os\u001b[39m.\u001b[39;49mlistdir(directory)):\n\u001b[0;32m    <a href='file:///c%3A/Python/lib/site-packages/keras/preprocessing/image.py?line=507'>508</a>\u001b[0m     \u001b[39mif\u001b[39;00m os\u001b[39m.\u001b[39mpath\u001b[39m.\u001b[39misdir(os\u001b[39m.\u001b[39mpath\u001b[39m.\u001b[39mjoin(directory, subdir)):\n\u001b[0;32m    <a href='file:///c%3A/Python/lib/site-packages/keras/preprocessing/image.py?line=508'>509</a>\u001b[0m       classes\u001b[39m.\u001b[39mappend(subdir)\n",
      "\u001b[1;31mFileNotFoundError\u001b[0m: [WinError 3] The system cannot find the path specified: './image_augmentation/ktp_real'"
     ]
    }
   ],
   "source": [
    "duplicate_with_augmentation('ktp')\n",
    "duplicate_with_augmentation('selfie')"
   ]
  },
  {
   "cell_type": "code",
   "execution_count": null,
   "metadata": {},
   "outputs": [],
   "source": []
  }
 ],
 "metadata": {
  "interpreter": {
   "hash": "52634da84371cba311ea128a5ea7cdc41ff074b781779e754b270ff9f8153cee"
  },
  "kernelspec": {
   "display_name": "Python 3.9.7 64-bit",
   "language": "python",
   "name": "python3"
  },
  "language_info": {
   "codemirror_mode": {
    "name": "ipython",
    "version": 3
   },
   "file_extension": ".py",
   "mimetype": "text/x-python",
   "name": "python",
   "nbconvert_exporter": "python",
   "pygments_lexer": "ipython3",
   "version": "3.9.7"
  },
  "orig_nbformat": 4
 },
 "nbformat": 4,
 "nbformat_minor": 2
}
