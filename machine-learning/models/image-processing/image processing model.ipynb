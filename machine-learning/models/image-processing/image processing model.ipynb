{
 "cells": [
  {
   "cell_type": "markdown",
   "metadata": {},
   "source": [
    "### Import Library"
   ]
  },
  {
   "cell_type": "code",
   "execution_count": 1,
   "metadata": {},
   "outputs": [],
   "source": [
    "import tensorflow as tf\n",
    "import numpy as np\n",
    "import matplotlib.pyplot as plt\n",
    "from tensorflow.keras.preprocessing.image import ImageDataGenerator\n",
    "import scipy"
   ]
  },
  {
   "cell_type": "code",
   "execution_count": 6,
   "metadata": {},
   "outputs": [],
   "source": [
    "data_root = './dataset image-processing/dataset_ktp_selfie'"
   ]
  },
  {
   "cell_type": "markdown",
   "metadata": {},
   "source": [
    "### Create data generator for training and validation"
   ]
  },
  {
   "cell_type": "code",
   "execution_count": 7,
   "metadata": {},
   "outputs": [
    {
     "name": "stdout",
     "output_type": "stream",
     "text": [
      "Found 1402 images belonging to 2 classes.\n",
      "Found 600 images belonging to 2 classes.\n"
     ]
    }
   ],
   "source": [
    "img_height = 150\n",
    "img_width = 150\n",
    "IMAGE_SHAPE = (img_width, img_height)\n",
    "\n",
    "batch_size = 64\n",
    "\n",
    "TRAINING_DATA_DIR = str(data_root)\n",
    "\n",
    "datagen_kwargs = dict(rescale=1./255, validation_split=.30)\n",
    "train_datagen = ImageDataGenerator(\n",
    "    **datagen_kwargs,\n",
    "    rotation_range=30, \n",
    "    width_shift_range=0.2,\n",
    "    height_shift_range=0.2, \n",
    "    brightness_range=[0.5,1.5],  \n",
    "    zoom_range=0.2,\n",
    "    horizontal_flip=True, \n",
    "    preprocessing_function=None, \n",
    "    data_format=None, \n",
    "    #validation_split=0.2, \n",
    "    dtype=None\n",
    ") # set validation split\n",
    "\n",
    "valid_datagen = ImageDataGenerator(**datagen_kwargs)\n",
    "\n",
    "\n",
    "\n",
    "train_generator = train_datagen.flow_from_directory(\n",
    "    TRAINING_DATA_DIR,\n",
    "    target_size=(img_height, img_width),\n",
    "    batch_size=batch_size,\n",
    "    class_mode='categorical',\n",
    "    subset='training'\n",
    ") # set as training data\n",
    "\n",
    "valid_generator = valid_datagen.flow_from_directory(\n",
    "    #train_data_dir, # same directory as training data\n",
    "    TRAINING_DATA_DIR,\n",
    "    target_size=(img_height, img_width),\n",
    "    batch_size= batch_size,\n",
    "    class_mode='categorical',\n",
    "    shuffle = True,\n",
    "    subset='validation'\n",
    ") # set as validation data"
   ]
  },
  {
   "cell_type": "markdown",
   "metadata": {},
   "source": [
    "## Create TF Model"
   ]
  },
  {
   "cell_type": "code",
   "execution_count": null,
   "metadata": {},
   "outputs": [],
   "source": [
    "model = tf.keras.models.Sequential([\n",
    "    tf.keras.layers.Conv2D(64, (3,3), activation='relu', input_shape = (img_width, img_height, 3)),\n",
    "    tf.keras.layers.MaxPooling2D(2,2),\n",
    "    # tf.keras.layers.Conv2D(32, (3,3), activation='relu'),\n",
    "    # tf.keras.layers.MaxPooling2D(2,2), \n",
    "    # tf.keras.layers.Conv2D(64, (3,3), activation='relu'), \n",
    "    # tf.keras.layers.MaxPooling2D(2,2),\n",
    "    # Flatten the results to feed into a DNN\n",
    "    tf.keras.layers.Flatten(), \n",
    "    tf.keras.layers.Dense(32, activation='relu'), \n",
    "    tf.keras.layers.Dense(2, activation='sigmoid')  \n",
    "])\n",
    "\n",
    "# Compile model\n",
    "model.compile(optimizer=tf.keras.optimizers.RMSprop(learning_rate=1e-4),\n",
    "              loss='binary_crossentropy',\n",
    "              metrics = ['accuracy'])"
   ]
  },
  {
   "cell_type": "markdown",
   "metadata": {},
   "source": []
  }
 ],
 "metadata": {
  "interpreter": {
   "hash": "52634da84371cba311ea128a5ea7cdc41ff074b781779e754b270ff9f8153cee"
  },
  "kernelspec": {
   "display_name": "Python 3.9.7 64-bit",
   "language": "python",
   "name": "python3"
  },
  "language_info": {
   "codemirror_mode": {
    "name": "ipython",
    "version": 3
   },
   "file_extension": ".py",
   "mimetype": "text/x-python",
   "name": "python",
   "nbconvert_exporter": "python",
   "pygments_lexer": "ipython3",
   "version": "3.9.7"
  },
  "orig_nbformat": 4
 },
 "nbformat": 4,
 "nbformat_minor": 2
}
