{
 "cells": [
  {
   "cell_type": "markdown",
   "metadata": {},
   "source": [
    "### Import Library"
   ]
  },
  {
   "cell_type": "code",
   "execution_count": 1,
   "metadata": {},
   "outputs": [],
   "source": [
    "import tensorflow as tf\n",
    "import numpy as np\n",
    "import matplotlib.pyplot as plt\n",
    "from tensorflow.keras.preprocessing.image import ImageDataGenerator\n",
    "import scipy"
   ]
  },
  {
   "cell_type": "code",
   "execution_count": 6,
   "metadata": {},
   "outputs": [],
   "source": [
    "data_root = './dataset image-processing/dataset_ktp_selfie'"
   ]
  },
  {
   "cell_type": "markdown",
   "metadata": {},
   "source": [
    "### Data generator for training and validation"
   ]
  },
  {
   "cell_type": "code",
   "execution_count": 7,
   "metadata": {},
   "outputs": [
    {
     "name": "stdout",
     "output_type": "stream",
     "text": [
      "Found 1402 images belonging to 2 classes.\n",
      "Found 600 images belonging to 2 classes.\n"
     ]
    }
   ],
   "source": [
    "img_height = 150\n",
    "img_width = 150\n",
    "IMAGE_SHAPE = (img_width, img_height)\n",
    "\n",
    "batch_size = 64\n",
    "\n",
    "TRAINING_DATA_DIR = str(data_root)\n",
    "\n",
    "datagen_kwargs = dict(rescale=1./255, validation_split=.30)\n",
    "train_datagen = ImageDataGenerator(\n",
    "    **datagen_kwargs,\n",
    "    rotation_range=30, \n",
    "    width_shift_range=0.2,\n",
    "    height_shift_range=0.2, \n",
    "    brightness_range=[0.5,1.5],  \n",
    "    zoom_range=0.2,\n",
    "    horizontal_flip=True, \n",
    "    preprocessing_function=None, \n",
    "    data_format=None, \n",
    "    #validation_split=0.2, \n",
    "    dtype=None\n",
    ") # set validation split\n",
    "\n",
    "valid_datagen = ImageDataGenerator(**datagen_kwargs)\n",
    "\n",
    "\n",
    "\n",
    "train_generator = train_datagen.flow_from_directory(\n",
    "    TRAINING_DATA_DIR,\n",
    "    target_size=(img_height, img_width),\n",
    "    batch_size=batch_size,\n",
    "    class_mode='categorical',\n",
    "    subset='training'\n",
    ") # set as training data\n",
    "\n",
    "valid_generator = valid_datagen.flow_from_directory(\n",
    "    #train_data_dir, # same directory as training data\n",
    "    TRAINING_DATA_DIR,\n",
    "    target_size=(img_height, img_width),\n",
    "    batch_size= batch_size,\n",
    "    class_mode='categorical',\n",
    "    shuffle = True,\n",
    "    subset='validation'\n",
    ") # set as validation data"
   ]
  },
  {
   "cell_type": "markdown",
   "metadata": {},
   "source": [
    "## Create TF Model"
   ]
  },
  {
   "cell_type": "code",
   "execution_count": 8,
   "metadata": {},
   "outputs": [],
   "source": [
    "model = tf.keras.models.Sequential([\n",
    "    tf.keras.layers.Conv2D(64, (3,3), activation='relu', input_shape = (img_width, img_height, 3)),\n",
    "    tf.keras.layers.MaxPooling2D(2,2),\n",
    "    # tf.keras.layers.Conv2D(32, (3,3), activation='relu'),\n",
    "    # tf.keras.layers.MaxPooling2D(2,2), \n",
    "    # tf.keras.layers.Conv2D(64, (3,3), activation='relu'), \n",
    "    # tf.keras.layers.MaxPooling2D(2,2),\n",
    "    tf.keras.layers.Flatten(), \n",
    "    tf.keras.layers.Dense(32, activation='relu'), \n",
    "    tf.keras.layers.Dense(2, activation='sigmoid')  \n",
    "])\n",
    "\n",
    "# Compile model\n",
    "model.compile(optimizer=tf.keras.optimizers.RMSprop(learning_rate=1e-4),\n",
    "              loss='binary_crossentropy',\n",
    "              metrics = ['accuracy'])"
   ]
  },
  {
   "cell_type": "code",
   "execution_count": 10,
   "metadata": {},
   "outputs": [
    {
     "name": "stdout",
     "output_type": "stream",
     "text": [
      "Epoch 1/30\n",
      "22/22 [==============================] - ETA: 0s - loss: 0.9154 - accuracy: 0.6134\n",
      "Epoch 1: val_loss improved from inf to 0.58340, saving model to ktp_selfie_model_01.h5\n",
      "22/22 [==============================] - 18s 483ms/step - loss: 0.9154 - accuracy: 0.6134 - val_loss: 0.5834 - val_accuracy: 0.7067\n",
      "Epoch 2/30\n",
      "22/22 [==============================] - ETA: 0s - loss: 0.4454 - accuracy: 0.8153\n",
      "Epoch 2: val_loss improved from 0.58340 to 0.52224, saving model to ktp_selfie_model_01.h5\n",
      "22/22 [==============================] - 11s 478ms/step - loss: 0.4454 - accuracy: 0.8153 - val_loss: 0.5222 - val_accuracy: 0.7833\n",
      "Epoch 3/30\n",
      "22/22 [==============================] - ETA: 0s - loss: 0.3685 - accuracy: 0.8459\n",
      "Epoch 3: val_loss did not improve from 0.52224\n",
      "22/22 [==============================] - 10s 459ms/step - loss: 0.3685 - accuracy: 0.8459 - val_loss: 0.9212 - val_accuracy: 0.6367\n",
      "Epoch 4/30\n",
      "22/22 [==============================] - ETA: 0s - loss: 0.3127 - accuracy: 0.8802\n",
      "Epoch 4: val_loss improved from 0.52224 to 0.48128, saving model to ktp_selfie_model_01.h5\n",
      "22/22 [==============================] - 10s 476ms/step - loss: 0.3127 - accuracy: 0.8802 - val_loss: 0.4813 - val_accuracy: 0.8067\n",
      "Epoch 5/30\n",
      "22/22 [==============================] - ETA: 0s - loss: 0.2726 - accuracy: 0.8973\n",
      "Epoch 5: val_loss improved from 0.48128 to 0.45169, saving model to ktp_selfie_model_01.h5\n",
      "22/22 [==============================] - 11s 501ms/step - loss: 0.2726 - accuracy: 0.8973 - val_loss: 0.4517 - val_accuracy: 0.8250\n",
      "Epoch 6/30\n",
      "22/22 [==============================] - ETA: 0s - loss: 0.2615 - accuracy: 0.9094\n",
      "Epoch 6: val_loss improved from 0.45169 to 0.40342, saving model to ktp_selfie_model_01.h5\n",
      "22/22 [==============================] - 10s 475ms/step - loss: 0.2615 - accuracy: 0.9094 - val_loss: 0.4034 - val_accuracy: 0.8400\n",
      "Epoch 7/30\n",
      "22/22 [==============================] - ETA: 0s - loss: 0.2126 - accuracy: 0.9280\n",
      "Epoch 7: val_loss did not improve from 0.40342\n",
      "22/22 [==============================] - 11s 521ms/step - loss: 0.2126 - accuracy: 0.9280 - val_loss: 0.4416 - val_accuracy: 0.8100\n",
      "Epoch 8/30\n",
      "22/22 [==============================] - ETA: 0s - loss: 0.1801 - accuracy: 0.9408\n",
      "Epoch 8: val_loss did not improve from 0.40342\n",
      "22/22 [==============================] - 10s 449ms/step - loss: 0.1801 - accuracy: 0.9408 - val_loss: 0.4437 - val_accuracy: 0.7967\n",
      "Epoch 9/30\n",
      "22/22 [==============================] - ETA: 0s - loss: 0.1967 - accuracy: 0.9394\n",
      "Epoch 9: val_loss improved from 0.40342 to 0.39253, saving model to ktp_selfie_model_01.h5\n",
      "22/22 [==============================] - 10s 465ms/step - loss: 0.1967 - accuracy: 0.9394 - val_loss: 0.3925 - val_accuracy: 0.8467\n",
      "Epoch 10/30\n",
      "22/22 [==============================] - ETA: 0s - loss: 0.1531 - accuracy: 0.9444\n",
      "Epoch 10: val_loss improved from 0.39253 to 0.36746, saving model to ktp_selfie_model_01.h5\n",
      "22/22 [==============================] - 10s 460ms/step - loss: 0.1531 - accuracy: 0.9444 - val_loss: 0.3675 - val_accuracy: 0.8700\n",
      "Epoch 11/30\n",
      "22/22 [==============================] - ETA: 0s - loss: 0.1906 - accuracy: 0.9322\n",
      "Epoch 11: val_loss did not improve from 0.36746\n",
      "22/22 [==============================] - 10s 461ms/step - loss: 0.1906 - accuracy: 0.9322 - val_loss: 0.5371 - val_accuracy: 0.7583\n",
      "Epoch 12/30\n",
      "22/22 [==============================] - ETA: 0s - loss: 0.1327 - accuracy: 0.9529\n",
      "Epoch 12: val_loss did not improve from 0.36746\n",
      "22/22 [==============================] - 10s 454ms/step - loss: 0.1327 - accuracy: 0.9529 - val_loss: 0.3776 - val_accuracy: 0.8767\n",
      "Epoch 13/30\n",
      "22/22 [==============================] - ETA: 0s - loss: 0.1171 - accuracy: 0.9586\n",
      "Epoch 13: val_loss did not improve from 0.36746\n",
      "22/22 [==============================] - 10s 474ms/step - loss: 0.1171 - accuracy: 0.9586 - val_loss: 0.3833 - val_accuracy: 0.8700\n",
      "Epoch 14/30\n",
      "22/22 [==============================] - ETA: 0s - loss: 0.1399 - accuracy: 0.9494\n",
      "Epoch 14: val_loss did not improve from 0.36746\n",
      "22/22 [==============================] - 11s 488ms/step - loss: 0.1399 - accuracy: 0.9494 - val_loss: 0.4252 - val_accuracy: 0.8450\n",
      "Epoch 15/30\n",
      "22/22 [==============================] - ETA: 0s - loss: 0.1335 - accuracy: 0.9508\n",
      "Epoch 15: val_loss did not improve from 0.36746\n",
      "22/22 [==============================] - 11s 518ms/step - loss: 0.1335 - accuracy: 0.9508 - val_loss: 0.3937 - val_accuracy: 0.8600\n",
      "Epoch 16/30\n",
      "22/22 [==============================] - ETA: 0s - loss: 0.1190 - accuracy: 0.9608\n",
      "Epoch 16: val_loss did not improve from 0.36746\n",
      "22/22 [==============================] - 10s 455ms/step - loss: 0.1190 - accuracy: 0.9608 - val_loss: 0.4321 - val_accuracy: 0.8883\n",
      "Epoch 17/30\n",
      "22/22 [==============================] - ETA: 0s - loss: 0.1235 - accuracy: 0.9586\n",
      "Epoch 17: val_loss did not improve from 0.36746\n",
      "22/22 [==============================] - 10s 468ms/step - loss: 0.1235 - accuracy: 0.9586 - val_loss: 0.4706 - val_accuracy: 0.8867\n",
      "Epoch 18/30\n",
      "22/22 [==============================] - ETA: 0s - loss: 0.1325 - accuracy: 0.9593\n",
      "Epoch 18: val_loss did not improve from 0.36746\n",
      "22/22 [==============================] - 10s 450ms/step - loss: 0.1325 - accuracy: 0.9593 - val_loss: 0.3917 - val_accuracy: 0.8483\n",
      "Epoch 19/30\n",
      "22/22 [==============================] - ETA: 0s - loss: 0.0922 - accuracy: 0.9693\n",
      "Epoch 19: val_loss improved from 0.36746 to 0.36114, saving model to ktp_selfie_model_01.h5\n",
      "22/22 [==============================] - 10s 443ms/step - loss: 0.0922 - accuracy: 0.9693 - val_loss: 0.3611 - val_accuracy: 0.9000\n",
      "Epoch 20/30\n",
      "22/22 [==============================] - ETA: 0s - loss: 0.1139 - accuracy: 0.9579\n",
      "Epoch 20: val_loss improved from 0.36114 to 0.34505, saving model to ktp_selfie_model_01.h5\n",
      "22/22 [==============================] - 10s 453ms/step - loss: 0.1139 - accuracy: 0.9579 - val_loss: 0.3450 - val_accuracy: 0.9000\n",
      "Epoch 21/30\n",
      "22/22 [==============================] - ETA: 0s - loss: 0.0957 - accuracy: 0.9722\n",
      "Epoch 21: val_loss did not improve from 0.34505\n",
      "22/22 [==============================] - 10s 437ms/step - loss: 0.0957 - accuracy: 0.9722 - val_loss: 0.3486 - val_accuracy: 0.8933\n",
      "Epoch 22/30\n",
      "22/22 [==============================] - ETA: 0s - loss: 0.0928 - accuracy: 0.9665\n",
      "Epoch 22: val_loss improved from 0.34505 to 0.33880, saving model to ktp_selfie_model_01.h5\n",
      "22/22 [==============================] - 10s 446ms/step - loss: 0.0928 - accuracy: 0.9665 - val_loss: 0.3388 - val_accuracy: 0.8833\n",
      "Epoch 23/30\n",
      "22/22 [==============================] - ETA: 0s - loss: 0.1012 - accuracy: 0.9650\n",
      "Epoch 23: val_loss improved from 0.33880 to 0.32535, saving model to ktp_selfie_model_01.h5\n",
      "22/22 [==============================] - 10s 451ms/step - loss: 0.1012 - accuracy: 0.9650 - val_loss: 0.3253 - val_accuracy: 0.8950\n",
      "Epoch 24/30\n",
      "22/22 [==============================] - ETA: 0s - loss: 0.0917 - accuracy: 0.9693\n",
      "Epoch 24: val_loss did not improve from 0.32535\n",
      "22/22 [==============================] - 10s 454ms/step - loss: 0.0917 - accuracy: 0.9693 - val_loss: 0.3413 - val_accuracy: 0.9150\n",
      "Epoch 25/30\n",
      "22/22 [==============================] - ETA: 0s - loss: 0.0961 - accuracy: 0.9658\n",
      "Epoch 25: val_loss did not improve from 0.32535\n",
      "22/22 [==============================] - 10s 460ms/step - loss: 0.0961 - accuracy: 0.9658 - val_loss: 0.3413 - val_accuracy: 0.8983\n",
      "Epoch 26/30\n",
      "22/22 [==============================] - ETA: 0s - loss: 0.0797 - accuracy: 0.9736\n",
      "Epoch 26: val_loss did not improve from 0.32535\n",
      "22/22 [==============================] - 10s 459ms/step - loss: 0.0797 - accuracy: 0.9736 - val_loss: 0.3335 - val_accuracy: 0.8967\n",
      "Epoch 27/30\n",
      "22/22 [==============================] - ETA: 0s - loss: 0.0985 - accuracy: 0.9708\n",
      "Epoch 27: val_loss did not improve from 0.32535\n",
      "22/22 [==============================] - 11s 499ms/step - loss: 0.0985 - accuracy: 0.9708 - val_loss: 0.3549 - val_accuracy: 0.9183\n",
      "Epoch 28/30\n",
      "22/22 [==============================] - ETA: 0s - loss: 0.0798 - accuracy: 0.9757\n",
      "Epoch 28: val_loss did not improve from 0.32535\n",
      "22/22 [==============================] - 11s 506ms/step - loss: 0.0798 - accuracy: 0.9757 - val_loss: 0.3682 - val_accuracy: 0.8917\n",
      "Epoch 29/30\n",
      "22/22 [==============================] - ETA: 0s - loss: 0.0841 - accuracy: 0.9693\n",
      "Epoch 29: val_loss did not improve from 0.32535\n",
      "22/22 [==============================] - 11s 520ms/step - loss: 0.0841 - accuracy: 0.9693 - val_loss: 0.3868 - val_accuracy: 0.8633\n",
      "Epoch 30/30\n",
      "22/22 [==============================] - ETA: 0s - loss: 0.1033 - accuracy: 0.9693\n",
      "Epoch 30: val_loss did not improve from 0.32535\n",
      "22/22 [==============================] - 12s 550ms/step - loss: 0.1033 - accuracy: 0.9693 - val_loss: 0.3540 - val_accuracy: 0.8800\n"
     ]
    }
   ],
   "source": [
    "mc = tf.keras.callbacks.ModelCheckpoint('ktp_selfie_model_01.h5', monitor='val_loss', mode='min', verbose=1, save_best_only=True)\n",
    "history = model.fit(\n",
    "            train_generator,\n",
    "            epochs=30,\n",
    "            validation_data=valid_generator,\n",
    "            callbacks = [mc], \n",
    "            )"
   ]
  },
  {
   "cell_type": "code",
   "execution_count": 12,
   "metadata": {},
   "outputs": [
    {
     "data": {
      "image/png": "[encoded data removed]",
      "text/plain": [
       "<Figure size 432x288 with 1 Axes>"
      ]
     },
     "metadata": {
      "needs_background": "light"
     },
     "output_type": "display_data"
    },
    {
     "data": {
      "image/png": "[encoded data removed]",
      "text/plain": [
       "<Figure size 432x288 with 1 Axes>"
      ]
     },
     "metadata": {
      "needs_background": "light"
     },
     "output_type": "display_data"
    }
   ],
   "source": [
    "def plot_graphs(history, metric):\n",
    "    plt.plot(history.history[metric])\n",
    "    plt.plot(history.history[f'val_{metric}'])\n",
    "    plt.xlabel(\"Epochs\")\n",
    "    plt.ylabel(metric)\n",
    "    plt.legend([metric, f'val_{metric}'])\n",
    "    plt.title(f'Training and validation {metric} for Image Processing Model')\n",
    "    plt.show()\n",
    "    \n",
    "plot_graphs(history, \"loss\")\n",
    "plot_graphs(history, \"accuracy\")"
   ]
  },
  {
   "cell_type": "markdown",
   "metadata": {},
   "source": []
  }
 ],
 "metadata": {
  "interpreter": {
   "hash": "52634da84371cba311ea128a5ea7cdc41ff074b781779e754b270ff9f8153cee"
  },
  "kernelspec": {
   "display_name": "Python 3.9.7 64-bit",
   "language": "python",
   "name": "python3"
  },
  "language_info": {
   "codemirror_mode": {
    "name": "ipython",
    "version": 3
   },
   "file_extension": ".py",
   "mimetype": "text/x-python",
   "name": "python",
   "nbconvert_exporter": "python",
   "pygments_lexer": "ipython3",
   "version": "3.9.7"
  },
  "orig_nbformat": 4
 },
 "nbformat": 4,
 "nbformat_minor": 2
}
